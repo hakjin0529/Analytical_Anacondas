{
 "cells": [
  {
   "cell_type": "code",
   "execution_count": 1,
   "metadata": {},
   "outputs": [
    {
     "name": "stdout",
     "output_type": "stream",
     "text": [
      "Requirement already satisfied: julian in c:\\programdata\\anaconda3\\lib\\site-packages (0.14)\n",
      "Note: you may need to restart the kernel to use updated packages.\n"
     ]
    }
   ],
   "source": [
    "pip install julian"
   ]
  },
  {
   "cell_type": "code",
   "execution_count": 2,
   "metadata": {},
   "outputs": [],
   "source": [
    "import sqlite3\n",
    "import pandas as pd\n",
    "import matplotlib.pyplot as plt\n",
    "%matplotlib inline\n",
    "import numpy as np\n",
    "import requests\n",
    "import json\n",
    "from datetime import datetime\n",
    "import julian\n",
    "import datetime\n",
    "import scipy as scp\n",
    "from scipy import stats\n",
    "import math"
   ]
  },
  {
   "cell_type": "code",
   "execution_count": 3,
   "metadata": {},
   "outputs": [
    {
     "data": {
      "text/html": [
       "<div>\n",
       "<style scoped>\n",
       "    .dataframe tbody tr th:only-of-type {\n",
       "        vertical-align: middle;\n",
       "    }\n",
       "\n",
       "    .dataframe tbody tr th {\n",
       "        vertical-align: top;\n",
       "    }\n",
       "\n",
       "    .dataframe thead th {\n",
       "        text-align: right;\n",
       "    }\n",
       "</style>\n",
       "<table border=\"1\" class=\"dataframe\">\n",
       "  <thead>\n",
       "    <tr style=\"text-align: right;\">\n",
       "      <th></th>\n",
       "      <th>MONTH</th>\n",
       "      <th>YEAR</th>\n",
       "      <th>AVG_TEMP</th>\n",
       "      <th>AVG_HIGHS</th>\n",
       "      <th>MAX_TEMP</th>\n",
       "      <th>PRECIPITATION</th>\n",
       "      <th>Unnamed: 6</th>\n",
       "    </tr>\n",
       "  </thead>\n",
       "  <tbody>\n",
       "    <tr>\n",
       "      <th>0</th>\n",
       "      <td>1</td>\n",
       "      <td>2007</td>\n",
       "      <td>33.4</td>\n",
       "      <td>58.9</td>\n",
       "      <td>69.1</td>\n",
       "      <td>0.06</td>\n",
       "      <td></td>\n",
       "    </tr>\n",
       "    <tr>\n",
       "      <th>1</th>\n",
       "      <td>2</td>\n",
       "      <td>2007</td>\n",
       "      <td>53.1</td>\n",
       "      <td>63.5</td>\n",
       "      <td>77.0</td>\n",
       "      <td>3.42</td>\n",
       "      <td>NaN</td>\n",
       "    </tr>\n",
       "    <tr>\n",
       "      <th>2</th>\n",
       "      <td>3</td>\n",
       "      <td>2007</td>\n",
       "      <td>61.0</td>\n",
       "      <td>75.2</td>\n",
       "      <td>84.9</td>\n",
       "      <td>0.07</td>\n",
       "      <td>NaN</td>\n",
       "    </tr>\n",
       "    <tr>\n",
       "      <th>3</th>\n",
       "      <td>4</td>\n",
       "      <td>2007</td>\n",
       "      <td>63.0</td>\n",
       "      <td>77.0</td>\n",
       "      <td>91.9</td>\n",
       "      <td>1.66</td>\n",
       "      <td>NaN</td>\n",
       "    </tr>\n",
       "    <tr>\n",
       "      <th>4</th>\n",
       "      <td>5</td>\n",
       "      <td>2007</td>\n",
       "      <td>70.9</td>\n",
       "      <td>87.5</td>\n",
       "      <td>98.1</td>\n",
       "      <td>0.30</td>\n",
       "      <td>NaN</td>\n",
       "    </tr>\n",
       "  </tbody>\n",
       "</table>\n",
       "</div>"
      ],
      "text/plain": [
       "   MONTH  YEAR  AVG_TEMP  AVG_HIGHS  MAX_TEMP  PRECIPITATION Unnamed: 6\n",
       "0      1  2007      33.4       58.9      69.1           0.06           \n",
       "1      2  2007      53.1       63.5      77.0           3.42        NaN\n",
       "2      3  2007      61.0       75.2      84.9           0.07        NaN\n",
       "3      4  2007      63.0       77.0      91.9           1.66        NaN\n",
       "4      5  2007      70.9       87.5      98.1           0.30        NaN"
      ]
     },
     "execution_count": 3,
     "metadata": {},
     "output_type": "execute_result"
    }
   ],
   "source": [
    "# Load CA Temp Data csv file\n",
    "AvgTemp_CA_csv = \"CA_Temps_2007_2018.csv\"\n",
    "\n",
    "# Convert to dataframe and sort by year and month\n",
    "AvgTemp_CA = pd.read_csv(AvgTemp_CA_csv)\n",
    "AvgTemp_CA.sort_values(by=[\"YEAR\", \"MONTH\"], inplace=True, ascending=True)\n",
    "AvgTemp_CA.head()"
   ]
  },
  {
   "cell_type": "code",
   "execution_count": 4,
   "metadata": {},
   "outputs": [],
   "source": [
    "# Connect to database\n",
    "conn = sqlite3.connect(\"FPA_FOD_20170508.sqlite\")\n",
    "fires = pd.read_sql_query(\"SELECT * FROM fires\", conn)"
   ]
  },
  {
   "cell_type": "code",
   "execution_count": 5,
   "metadata": {},
   "outputs": [
    {
     "data": {
      "text/html": [
       "<div>\n",
       "<style scoped>\n",
       "    .dataframe tbody tr th:only-of-type {\n",
       "        vertical-align: middle;\n",
       "    }\n",
       "\n",
       "    .dataframe tbody tr th {\n",
       "        vertical-align: top;\n",
       "    }\n",
       "\n",
       "    .dataframe thead th {\n",
       "        text-align: right;\n",
       "    }\n",
       "</style>\n",
       "<table border=\"1\" class=\"dataframe\">\n",
       "  <thead>\n",
       "    <tr style=\"text-align: right;\">\n",
       "      <th></th>\n",
       "      <th>SOURCE_REPORTING_UNIT_NAME</th>\n",
       "      <th>FIRE_NAME</th>\n",
       "      <th>FIRE_YEAR</th>\n",
       "      <th>STAT_CAUSE_DESCR</th>\n",
       "      <th>FIRE_SIZE</th>\n",
       "      <th>LATITUDE</th>\n",
       "      <th>LONGITUDE</th>\n",
       "      <th>OWNER_DESCR</th>\n",
       "      <th>STATE</th>\n",
       "      <th>COUNTY</th>\n",
       "      <th>START_DATE</th>\n",
       "      <th>END_DATE</th>\n",
       "    </tr>\n",
       "  </thead>\n",
       "  <tbody>\n",
       "    <tr>\n",
       "      <th>1872288</th>\n",
       "      <td>Nevada-Yuba-Placer Unit</td>\n",
       "      <td>RODEO</td>\n",
       "      <td>2015</td>\n",
       "      <td>Arson</td>\n",
       "      <td>0.01</td>\n",
       "      <td>39.173027</td>\n",
       "      <td>-121.057377</td>\n",
       "      <td>MISSING/NOT SPECIFIED</td>\n",
       "      <td>CA</td>\n",
       "      <td>NEVADA</td>\n",
       "      <td>2015-12-31</td>\n",
       "      <td>2015-12-31</td>\n",
       "    </tr>\n",
       "    <tr>\n",
       "      <th>1871985</th>\n",
       "      <td>CDF - Monte Vista Unit</td>\n",
       "      <td>LEIGH</td>\n",
       "      <td>2015</td>\n",
       "      <td>Missing/Undefined</td>\n",
       "      <td>0.10</td>\n",
       "      <td>32.701123</td>\n",
       "      <td>-117.007382</td>\n",
       "      <td>MISSING/NOT SPECIFIED</td>\n",
       "      <td>CA</td>\n",
       "      <td>SAN DIEGO</td>\n",
       "      <td>2015-12-31</td>\n",
       "      <td>NaT</td>\n",
       "    </tr>\n",
       "    <tr>\n",
       "      <th>1871977</th>\n",
       "      <td>CDF - Fresno-Kings Unit</td>\n",
       "      <td>ACADEMY 2</td>\n",
       "      <td>2015</td>\n",
       "      <td>Debris Burning</td>\n",
       "      <td>0.10</td>\n",
       "      <td>36.536611</td>\n",
       "      <td>-119.556721</td>\n",
       "      <td>MISSING/NOT SPECIFIED</td>\n",
       "      <td>CA</td>\n",
       "      <td>FRESNO</td>\n",
       "      <td>2015-12-31</td>\n",
       "      <td>NaT</td>\n",
       "    </tr>\n",
       "    <tr>\n",
       "      <th>1872285</th>\n",
       "      <td>Santa Barbara County Fire Department</td>\n",
       "      <td>None</td>\n",
       "      <td>2015</td>\n",
       "      <td>Missing/Undefined</td>\n",
       "      <td>0.01</td>\n",
       "      <td>35.050000</td>\n",
       "      <td>-120.166666</td>\n",
       "      <td>MISSING/NOT SPECIFIED</td>\n",
       "      <td>CA</td>\n",
       "      <td>SANTA BARBARA</td>\n",
       "      <td>2015-12-31</td>\n",
       "      <td>NaT</td>\n",
       "    </tr>\n",
       "    <tr>\n",
       "      <th>1872147</th>\n",
       "      <td>CDF - Riverside Unit</td>\n",
       "      <td>PINON</td>\n",
       "      <td>2015</td>\n",
       "      <td>Miscellaneous</td>\n",
       "      <td>0.10</td>\n",
       "      <td>33.808482</td>\n",
       "      <td>-117.358313</td>\n",
       "      <td>MISSING/NOT SPECIFIED</td>\n",
       "      <td>CA</td>\n",
       "      <td>RIVERSIDE</td>\n",
       "      <td>2015-12-30</td>\n",
       "      <td>2015-12-30</td>\n",
       "    </tr>\n",
       "  </tbody>\n",
       "</table>\n",
       "</div>"
      ],
      "text/plain": [
       "                   SOURCE_REPORTING_UNIT_NAME  FIRE_NAME  FIRE_YEAR  \\\n",
       "1872288               Nevada-Yuba-Placer Unit      RODEO       2015   \n",
       "1871985                CDF - Monte Vista Unit      LEIGH       2015   \n",
       "1871977               CDF - Fresno-Kings Unit  ACADEMY 2       2015   \n",
       "1872285  Santa Barbara County Fire Department       None       2015   \n",
       "1872147                  CDF - Riverside Unit      PINON       2015   \n",
       "\n",
       "          STAT_CAUSE_DESCR  FIRE_SIZE   LATITUDE   LONGITUDE  \\\n",
       "1872288              Arson       0.01  39.173027 -121.057377   \n",
       "1871985  Missing/Undefined       0.10  32.701123 -117.007382   \n",
       "1871977     Debris Burning       0.10  36.536611 -119.556721   \n",
       "1872285  Missing/Undefined       0.01  35.050000 -120.166666   \n",
       "1872147      Miscellaneous       0.10  33.808482 -117.358313   \n",
       "\n",
       "                   OWNER_DESCR STATE         COUNTY START_DATE   END_DATE  \n",
       "1872288  MISSING/NOT SPECIFIED    CA         NEVADA 2015-12-31 2015-12-31  \n",
       "1871985  MISSING/NOT SPECIFIED    CA      SAN DIEGO 2015-12-31        NaT  \n",
       "1871977  MISSING/NOT SPECIFIED    CA         FRESNO 2015-12-31        NaT  \n",
       "1872285  MISSING/NOT SPECIFIED    CA  SANTA BARBARA 2015-12-31        NaT  \n",
       "1872147  MISSING/NOT SPECIFIED    CA      RIVERSIDE 2015-12-30 2015-12-30  "
      ]
     },
     "execution_count": 5,
     "metadata": {},
     "output_type": "execute_result"
    }
   ],
   "source": [
    "# Convert from julian to calendar dates\n",
    "fires[\"START_DATE\"] = pd.to_datetime(fires[\"DISCOVERY_DATE\"] - pd.Timestamp(0).to_julian_date(), unit='D')\n",
    "fires[\"END_DATE\"] = pd.to_datetime(fires[\"CONT_DATE\"] - pd.Timestamp(0).to_julian_date(), unit='D')\n",
    "\n",
    "# Drop unnecessary columns with drop function\n",
    "fires.drop(['OBJECTID', 'FOD_ID', 'FPA_ID', 'SOURCE_SYSTEM_TYPE', 'SOURCE_SYSTEM',\n",
    "       'NWCG_REPORTING_AGENCY', 'NWCG_REPORTING_UNIT_ID',\n",
    "       'NWCG_REPORTING_UNIT_NAME', 'SOURCE_REPORTING_UNIT',\n",
    "       'LOCAL_FIRE_REPORT_ID', 'LOCAL_INCIDENT_ID', 'FIRE_CODE',\n",
    "       'ICS_209_INCIDENT_NUMBER', 'ICS_209_NAME', 'MTBS_ID', 'MTBS_FIRE_NAME',\n",
    "       'COMPLEX_NAME', 'DISCOVERY_DATE', 'DISCOVERY_DOY', 'DISCOVERY_TIME',\n",
    "       'STAT_CAUSE_CODE', 'CONT_DATE', 'CONT_DOY', 'CONT_TIME', 'FIRE_SIZE_CLASS', \n",
    "       'OWNER_CODE', 'FIPS_CODE', 'FIPS_NAME', 'Shape'], axis=1, inplace=True)\n",
    "\n",
    "# Sort by start date\n",
    "fires.sort_values(by=[\"START_DATE\"], inplace=True, ascending=False)\n",
    "\n",
    "#Filter by State to CA only\n",
    "fires.drop(fires[fires.STATE != \"CA\"].index, inplace=True)\n",
    "fires.head()"
   ]
  },
  {
   "cell_type": "markdown",
   "metadata": {},
   "source": [
    "# Temperature Data: Average Annual Temperatures in CA\n",
    "## Obtained average annual temperatures in CA from 2007-2018\n",
    "### Source: https://www.usclimatedata.com/climate/winters/california/united-states/usca1252/2007/1"
   ]
  },
  {
   "cell_type": "code",
   "execution_count": 7,
   "metadata": {},
   "outputs": [
    {
     "data": {
      "image/png": "[encoded data removed]",
      "text/plain": [
       "<Figure size 432x288 with 1 Axes>"
      ]
     },
     "metadata": {
      "needs_background": "light"
     },
     "output_type": "display_data"
    }
   ],
   "source": [
    "# Group by year\n",
    "by_year = AvgTemp_CA.groupby([\"YEAR\"])\n",
    "\n",
    "# Calculate average temperature by year\n",
    "avg_temp = by_year[\"AVG_TEMP\"].mean().reset_index()\n",
    "\n",
    "# Create variables for graph of average temperatures in CA (2007-2018)\n",
    "x = avg_temp[\"YEAR\"]\n",
    "y = avg_temp[\"AVG_TEMP\"]\n",
    "\n",
    "# Add trendline\n",
    "slope, intercept, r_value, p_value, std_err = scp.stats.linregress(x,y)\n",
    "y_hat = x * slope + intercept\n",
    "\n",
    "# Set y-axis limits\n",
    "plt.ylim([math.ceil(60), math.ceil(66)])\n",
    "\n",
    "# Graph average temperatures by year\n",
    "plt.bar(x, y, align= \"center\", alpha=0.5)\n",
    "plt.plot(x,y_hat)\n",
    "plt.grid(True, lw = 1, ls = '--', c = '.75')\n",
    "\n",
    "plt.ylabel(\"Temperature (F)\")\n",
    "plt.title(\"Average Temperatures in CA (2007-2018)\")\n",
    "\n",
    "plt.show()"
   ]
  },
  {
   "cell_type": "markdown",
   "metadata": {},
   "source": [
    "# Fire Data: Number of Fires and Acres Burned Annually\n",
    "## Obtained historical wildfire data from 1992-2018\n",
    "### Source (1992-2015): https://www.kaggle.com/rtatman/188-million-us-wildfires\n",
    "### Source (2015-2018): https://en.wikipedia.org/wiki/2018_California_wildfires"
   ]
  },
  {
   "cell_type": "code",
   "execution_count": 8,
   "metadata": {},
   "outputs": [
    {
     "data": {
      "image/png": "[encoded data removed]",
      "text/plain": [
       "<Figure size 432x288 with 1 Axes>"
      ]
     },
     "metadata": {
      "needs_background": "light"
     },
     "output_type": "display_data"
    }
   ],
   "source": [
    "# Group by year\n",
    "by_year = fires.groupby([\"FIRE_YEAR\"])\n",
    "\n",
    "# Sum total acres burned by year\n",
    "total_acres = by_year[\"FIRE_SIZE\"].sum().reset_index()\n",
    "\n",
    "# Create variables for graph of number of acres burned by year\n",
    "x = total_acres[\"FIRE_YEAR\"]\n",
    "y = total_acres[\"FIRE_SIZE\"]\n",
    "\n",
    "# Add trendline\n",
    "slope, intercept, r_value, p_value, std_err = scp.stats.linregress(x,y)\n",
    "y_hat = x * slope + intercept\n",
    "\n",
    "# Graph number of acres burned by year\n",
    "plt.bar(x, y, align= \"center\", alpha=0.5)\n",
    "plt.plot(x,y_hat)\n",
    "plt.grid(True, lw = 1, ls = '--', c = '.75')\n",
    "\n",
    "plt.ylabel(\"Total Acres Burned\")\n",
    "plt.title(\"Total Acres Burned Annually in CA (1992-2018)\")\n",
    "\n",
    "plt.show()"
   ]
  },
  {
   "cell_type": "code",
   "execution_count": 9,
   "metadata": {},
   "outputs": [
    {
     "data": {
      "image/png": "[encoded data removed]",
      "text/plain": [
       "<Figure size 432x288 with 1 Axes>"
      ]
     },
     "metadata": {
      "needs_background": "light"
     },
     "output_type": "display_data"
    }
   ],
   "source": [
    "# Sum total fires by year\n",
    "total_fires = by_year[\"FIRE_SIZE\"].count().reset_index()\n",
    "\n",
    "# Create variables for graph of number of fires by year\n",
    "x = total_fires[\"FIRE_YEAR\"]\n",
    "y = total_fires[\"FIRE_SIZE\"]\n",
    "\n",
    "# Add trendline\n",
    "slope, intercept, r_value, p_value, std_err = scp.stats.linregress(x,y)\n",
    "y_hat = x * slope + intercept\n",
    "\n",
    "# Graph number of acres burned by year\n",
    "plt.bar(x, y, align= \"center\", alpha=0.5)\n",
    "plt.plot(x,y_hat)\n",
    "plt.grid(True, lw = 1, ls = '--', c = '.75')\n",
    "\n",
    "plt.ylabel(\"Total Acres Burned\")\n",
    "plt.title(\"Total Acres Burned Annually in CA (1992-2018)\")\n",
    "\n",
    "plt.show()"
   ]
  },
  {
   "cell_type": "code",
   "execution_count": null,
   "metadata": {},
   "outputs": [],
   "source": []
  }
 ],
 "metadata": {
  "kernelspec": {
   "display_name": "Python 3",
   "language": "python",
   "name": "python3"
  },
  "language_info": {
   "codemirror_mode": {
    "name": "ipython",
    "version": 3
   },
   "file_extension": ".py",
   "mimetype": "text/x-python",
   "name": "python",
   "nbconvert_exporter": "python",
   "pygments_lexer": "ipython3",
   "version": "3.7.3"
  }
 },
 "nbformat": 4,
 "nbformat_minor": 2
}
